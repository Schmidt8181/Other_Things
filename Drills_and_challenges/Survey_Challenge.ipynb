{
 "cells": [
  {
   "cell_type": "code",
   "execution_count": 44,
   "metadata": {
    "collapsed": true
   },
   "outputs": [],
   "source": [
    "import pandas as pd\n",
    "import seaborn as sns\n",
    "import matplotlib.pyplot as plt\n",
    "import numpy as np\n",
    "import scipy.stats as stats"
   ]
  },
  {
   "cell_type": "code",
   "execution_count": 5,
   "metadata": {
    "collapsed": true
   },
   "outputs": [],
   "source": [
    "social_data = pd.read_csv('https://raw.githubusercontent.com/Thinkful-Ed/data-201-resources/master/ESS_practice_data/ESSdata_Thinkful.csv')"
   ]
  },
  {
   "cell_type": "code",
   "execution_count": 6,
   "metadata": {},
   "outputs": [
    {
     "data": {
      "text/plain": [
       "cntry      0\n",
       "idno       0\n",
       "year       0\n",
       "tvtot      0\n",
       "ppltrst    0\n",
       "pplfair    0\n",
       "pplhlp     0\n",
       "happy      0\n",
       "sclmeet    0\n",
       "sclact     0\n",
       "gndr       0\n",
       "agea       0\n",
       "partner    0\n",
       "dtype: int64"
      ]
     },
     "execution_count": 6,
     "metadata": {},
     "output_type": "execute_result"
    }
   ],
   "source": [
    "social_data.dropna(how='any', inplace=True)\n",
    "social_data.isnull().sum()"
   ]
  },
  {
   "cell_type": "code",
   "execution_count": 8,
   "metadata": {},
   "outputs": [
    {
     "name": "stdout",
     "output_type": "stream",
     "text": [
      "0.007088422406118511\n"
     ]
    }
   ],
   "source": [
    "# 1. Did people become less trusting from 2012 to 2014? \n",
    "\n",
    "social_data_2012 = social_data[social_data['year'] == 6]\n",
    "social_data_2014 = social_data[social_data['year'] == 7]\n",
    "\n",
    "print((social_data_2012['ppltrst'].mean() - social_data_2014['ppltrst'].mean()))"
   ]
  },
  {
   "cell_type": "code",
   "execution_count": 9,
   "metadata": {
    "collapsed": true
   },
   "outputs": [],
   "source": [
    "# Compute results for each country in the sample.\n",
    "# split up each country and compare 2012 - 2014\n",
    "\n",
    "social_ch_2012 = social_data_2012[social_data_2012['cntry'] == 'CH']\n",
    "social_cz_2012 = social_data_2012[social_data_2012['cntry'] == 'CZ']\n",
    "social_de_2012 = social_data_2012[social_data_2012['cntry'] == 'DE']\n",
    "social_es_2012 = social_data_2012[social_data_2012['cntry'] == 'ES']\n",
    "social_no_2012 = social_data_2012[social_data_2012['cntry'] == 'NO']\n",
    "social_se_2012 = social_data_2012[social_data_2012['cntry'] == 'SE']\n",
    "\n",
    "social_ch_2014 = social_data_2014[social_data_2014['cntry'] == 'CH']\n",
    "social_cz_2014 = social_data_2014[social_data_2014['cntry'] == 'CZ']\n",
    "social_de_2014 = social_data_2014[social_data_2014['cntry'] == 'DE']\n",
    "social_es_2014 = social_data_2014[social_data_2014['cntry'] == 'ES']\n",
    "social_no_2014 = social_data_2014[social_data_2014['cntry'] == 'NO']\n",
    "social_se_2014 = social_data_2014[social_data_2014['cntry'] == 'SE']"
   ]
  },
  {
   "cell_type": "code",
   "execution_count": 29,
   "metadata": {},
   "outputs": [
    {
     "name": "stdout",
     "output_type": "stream",
     "text": [
      "Switzerland's change\n",
      "-0.07867602174025023\n",
      "Czech Republic's change\n",
      "0.04622658605294738\n",
      "Germany's change\n",
      "-0.2802197802197801\n",
      "Spain's change\n",
      "0.187771289671117\n",
      "Norway's change\n",
      "0.048585983622167817\n",
      "Sweden's change\n",
      "-0.19683438670270537\n"
     ]
    }
   ],
   "source": [
    "# \n",
    "print('Switzerland\\'s change')\n",
    "print((social_ch_2012['ppltrst'].mean()-social_ch_2014['ppltrst'].mean()))\n",
    "print('Czech Republic\\'s change')\n",
    "print((social_cz_2012['ppltrst'].mean()-social_cz_2014['ppltrst'].mean()))\n",
    "print('Germany\\'s change')\n",
    "print((social_de_2012['ppltrst'].mean()-social_de_2014['ppltrst'].mean()))\n",
    "print('Spain\\'s change')\n",
    "print((social_es_2012['ppltrst'].mean()-social_es_2014['ppltrst'].mean()))\n",
    "print('Norway\\'s change')\n",
    "print((social_no_2012['ppltrst'].mean()-social_no_2014['ppltrst'].mean()))\n",
    "print('Sweden\\'s change')\n",
    "print((social_se_2012['ppltrst'].mean()-social_se_2014['ppltrst'].mean()))"
   ]
  },
  {
   "cell_type": "code",
   "execution_count": 11,
   "metadata": {},
   "outputs": [
    {
     "name": "stdout",
     "output_type": "stream",
     "text": [
      "Overall:\n",
      "0.0460396413127242\n",
      "Switzerland's change\n",
      "-0.05933153880663866\n",
      "Czech Republic's change\n",
      "-0.13209282658715082\n",
      "Germany's change\n",
      "-0.5494505494505493\n",
      "Spain's change\n",
      "0.1072410925606091\n",
      "Norway's change\n",
      "0.3328810385323431\n",
      "Sweden's change\n",
      "-0.03782193559475466\n"
     ]
    }
   ],
   "source": [
    "# 2. Did people become happier from 2012 to 2014? \n",
    "print('Overall:')\n",
    "print((social_data_2012['happy'].mean() - social_data_2014['happy'].mean()))\n",
    "# Compute results for each country in the sample.\n",
    "\n",
    "print('Switzerland\\'s change')\n",
    "print((social_ch_2012['happy'].mean()-social_ch_2014['happy'].mean()))\n",
    "print('Czech Republic\\'s change')\n",
    "print((social_cz_2012['happy'].mean()-social_cz_2014['happy'].mean()))\n",
    "print('Germany\\'s change')\n",
    "print((social_de_2012['happy'].mean()-social_de_2014['happy'].mean()))\n",
    "print('Spain\\'s change')\n",
    "print((social_es_2012['happy'].mean()-social_es_2014['happy'].mean()))\n",
    "print('Norway\\'s change')\n",
    "print((social_no_2012['happy'].mean()-social_no_2014['happy'].mean()))\n",
    "print('Sweden\\'s change')\n",
    "print((social_se_2012['happy'].mean()-social_se_2014['happy'].mean()))"
   ]
  },
  {
   "cell_type": "code",
   "execution_count": 34,
   "metadata": {},
   "outputs": [
    {
     "data": {
      "image/png": "[encoded data removed]",
      "text/plain": [
       "<matplotlib.figure.Figure at 0x115a094e0>"
      ]
     },
     "metadata": {},
     "output_type": "display_data"
    },
    {
     "name": "stdout",
     "output_type": "stream",
     "text": [
      "Men tv average\n",
      "3.8592303945445687\n",
      "Women tv average\n",
      "3.9053518334985133\n"
     ]
    }
   ],
   "source": [
    "# 3. Who reported watching more TV in 2012, men or women?\n",
    "\n",
    "# add together all the tv for men and tv for women and then average that\n",
    "# then return the result or graph the result \n",
    "men_2012 = social_data_2012[social_data_2012['gndr']==1]\n",
    "women_2012 = social_data_2012[social_data_2012['gndr']==2]\n",
    "\n",
    "men_2012['tvtot'].hist(alpha=.5, color='blue', label='Men')\n",
    "women_2012['tvtot'].hist(alpha=.5, color='red', label='Women')\n",
    "plt.legend(loc='upper left')\n",
    "plt.xlabel('Hours of Tv on average day')\n",
    "plt.ylabel('Number of responses')\n",
    "plt.show()\n",
    "\n",
    "# get numbers to show who did more tv watching\n",
    "print('Men tv average')\n",
    "print(men_2012['tvtot'].mean())\n",
    "print('Women tv average')\n",
    "print(women_2012['tvtot'].mean())"
   ]
  },
  {
   "cell_type": "code",
   "execution_count": 38,
   "metadata": {},
   "outputs": [
    {
     "name": "stdout",
     "output_type": "stream",
     "text": [
      "The probability someone with a partner believes others are fair is\n",
      "0.3925325472856792\n",
      "The probability someone with a partner believes others are not fair is\n",
      "0.2318840579710145\n",
      "The probability someone without a partner believes others are fair is\n",
      "0.21468926553672316\n",
      "The probability someone without a partner believes others are not fair is\n",
      "0.16089412920658314\n"
     ]
    },
    {
     "name": "stderr",
     "output_type": "stream",
     "text": [
      "/anaconda/lib/python3.6/site-packages/ipykernel/__main__.py:3: SettingWithCopyWarning: \n",
      "A value is trying to be set on a copy of a slice from a DataFrame.\n",
      "Try using .loc[row_indexer,col_indexer] = value instead\n",
      "\n",
      "See the caveats in the documentation: http://pandas.pydata.org/pandas-docs/stable/indexing.html#indexing-view-versus-copy\n",
      "  app.launch_new_instance()\n"
     ]
    }
   ],
   "source": [
    "# 4. Who was more likely to believe people were fair in 2012,\n",
    "# people living with a partner or people living alone?\n",
    "social_data_2012['fair'] = np.where((social_data_2012['pplfair'] > 5), 1, 0)\n",
    "\n",
    "# get probability estimates by dividing # of 'fair' answers with total # answers\n",
    "\n",
    "partner = social_data_2012.loc[(social_data_2012['partner']==1),['fair']].copy()\n",
    "without_partner = social_data_2012.loc[(social_data_2012['partner']==2),['fair']].copy()\n",
    "\n",
    "wp_think_fair = partner.loc[(partner['fair']==1)]\n",
    "wp_think_not_fair = partner.loc[(partner['fair']==0)]\n",
    "wop_think_fair = without_partner.loc[(without_partner['fair']==1)]\n",
    "wop_think_not_fair = without_partner.loc[(without_partner['fair']==0)]\n",
    "\n",
    "probs_partner_fair = len(wp_think_fair)/len(social_data_2012['fair'])\n",
    "probs_partner_unfair = len(wp_think_not_fair)/len(social_data_2012['fair'])\n",
    "probs_no_partner_fair = len(wop_think_fair)/len(social_data_2012['fair'])\n",
    "probs_no_partner_unfair = len(wop_think_not_fair)/len(social_data_2012['fair'])\n",
    "\n",
    "print('The probability someone with a partner believes others are fair is')\n",
    "print(probs_partner_fair)\n",
    "print('The probability someone with a partner believes others are not fair is')\n",
    "print(probs_partner_unfair)\n",
    "print('The probability someone without a partner believes others are fair is')\n",
    "print(probs_no_partner_fair)\n",
    "print('The probability someone without a partner believes others are not fair is')\n",
    "print(probs_no_partner_unfair)"
   ]
  },
  {
   "cell_type": "code",
   "execution_count": 39,
   "metadata": {
    "scrolled": true
   },
   "outputs": [
    {
     "name": "stdout",
     "output_type": "stream",
     "text": [
      "1.0\n"
     ]
    }
   ],
   "source": [
    "print(probs_partner_fair+probs_partner_unfair+probs_no_partner_fair+probs_no_partner_unfair)"
   ]
  },
  {
   "cell_type": "code",
   "execution_count": 50,
   "metadata": {},
   "outputs": [
    {
     "name": "stdout",
     "output_type": "stream",
     "text": [
      "6.874144357971474\n",
      "0.00013058086527657678\n"
     ]
    },
    {
     "data": {
      "image/png": "[encoded data removed]",
      "text/plain": [
       "<matplotlib.figure.Figure at 0x1154e6cc0>"
      ]
     },
     "metadata": {},
     "output_type": "display_data"
    },
    {
     "data": {
      "image/png": "[encoded data removed]",
      "text/plain": [
       "<matplotlib.figure.Figure at 0x1154bc9e8>"
      ]
     },
     "metadata": {},
     "output_type": "display_data"
    },
    {
     "name": "stdout",
     "output_type": "stream",
     "text": [
      "Spain Average:\n",
      "5.263668430335097\n",
      "Switzerland Average\n",
      "5.174966352624495\n",
      "Germany Average\n",
      "4.428571428571429\n",
      "Sweden Average\n",
      "5.434832756632065\n"
     ]
    }
   ],
   "source": [
    "# 5. Pick three or four of the countries in the sample \n",
    "# and compare how often people met socially in 2014.\n",
    "# Are there differences, and if so, which countries stand out?\n",
    "\n",
    "F, p = stats.f_oneway(social_es_2014['sclmeet'],\n",
    "                      social_ch_2014['sclmeet'],\n",
    "                      social_de_2014['sclmeet'],\n",
    "                      social_se_2014['sclmeet'])\n",
    "print(F)\n",
    "print(p)\n",
    "social_es_2014['sclmeet'].hist(alpha=.5, color='red', label='Spain')\n",
    "social_ch_2014['sclmeet'].hist(alpha=.5, color='blue', label='Swizterland')\n",
    "social_de_2014['sclmeet'].hist(alpha=.7, color='yellow', label='Germany')\n",
    "social_se_2014['sclmeet'].hist(alpha=.5, color='green', label='Sweden')\n",
    "plt.legend()\n",
    "plt.title('How Often People Meet Socially')\n",
    "plt.show()\n",
    "plt.title('Zoomed in to just DE')\n",
    "social_de_2014['sclmeet'].hist(alpha=.7, color='yellow')\n",
    "plt.show()\n",
    "\n",
    "print('Spain Average:')\n",
    "print(social_es_2014['sclmeet'].mean())\n",
    "print('Switzerland Average')\n",
    "print(social_ch_2014['sclmeet'].mean())\n",
    "print('Germany Average')\n",
    "print(social_de_2014['sclmeet'].mean())\n",
    "print('Sweden Average')\n",
    "print(social_se_2014['sclmeet'].mean())\n"
   ]
  },
  {
   "cell_type": "code",
   "execution_count": 56,
   "metadata": {},
   "outputs": [
    {
     "name": "stdout",
     "output_type": "stream",
     "text": [
      "Spain & Switzerland:\n",
      "Ttest_indResult(statistic=1.3563979158247432, pvalue=0.17513589623821907)\n",
      "Spain & Germany:\n",
      "Ttest_indResult(statistic=2.168865565712128, pvalue=0.030298013218196748)\n",
      "Spain & Sweden:\n",
      "Ttest_indResult(statistic=-2.6925202988475645, pvalue=0.0071506085242787525)\n",
      "Germany & Switzerland:\n",
      "Ttest_indResult(statistic=-2.137774079859156, pvalue=0.032855611686425916)\n",
      "Germany & Sweden:\n",
      "Ttest_indResult(statistic=-2.739042801007487, pvalue=0.006286550691196736)\n",
      "Switzerland & Sweden:\n",
      "Ttest_indResult(statistic=-3.8811664926200904, pvalue=0.00010815819723507566)\n"
     ]
    }
   ],
   "source": [
    "print('Spain & Switzerland:')\n",
    "print(stats.ttest_ind(social_es_2014['sclmeet'], social_ch_2014['sclmeet']))\n",
    "print('Spain & Germany:')\n",
    "print(stats.ttest_ind(social_es_2014['sclmeet'], social_de_2014['sclmeet']))\n",
    "print('Spain & Sweden:')\n",
    "print(stats.ttest_ind(social_es_2014['sclmeet'], social_se_2014['sclmeet']))\n",
    "print('Germany & Switzerland:')\n",
    "print(stats.ttest_ind(social_de_2014['sclmeet'], social_ch_2014['sclmeet']))\n",
    "print('Germany & Sweden:')\n",
    "print(stats.ttest_ind(social_de_2014['sclmeet'], social_se_2014['sclmeet']))\n",
    "print('Switzerland & Sweden:')\n",
    "print(stats.ttest_ind(social_ch_2014['sclmeet'], social_se_2014['sclmeet']))"
   ]
  },
  {
   "cell_type": "code",
   "execution_count": 54,
   "metadata": {},
   "outputs": [
    {
     "name": "stdout",
     "output_type": "stream",
     "text": [
      "12.584663886720783\n",
      "3.598845381521039e-08\n"
     ]
    },
    {
     "data": {
      "image/png": "[encoded data removed]",
      "text/plain": [
       "<matplotlib.figure.Figure at 0x113dbf128>"
      ]
     },
     "metadata": {},
     "output_type": "display_data"
    },
    {
     "data": {
      "image/png": "[encoded data removed]",
      "text/plain": [
       "<matplotlib.figure.Figure at 0x115728c18>"
      ]
     },
     "metadata": {},
     "output_type": "display_data"
    },
    {
     "name": "stdout",
     "output_type": "stream",
     "text": [
      "Spain Average:\n",
      "2.631393298059965\n",
      "Switzerland Average\n",
      "2.784656796769852\n",
      "Germany Average\n",
      "2.7142857142857144\n",
      "Sweden Average\n",
      "2.878892733564014\n"
     ]
    }
   ],
   "source": [
    "# 6. Pick three or four of the countries in the sample and compare how often\n",
    "# people took part in social activities, relative to others their age, in 2014.\n",
    "# Are there differences, and if so, which countries stand out?\n",
    "print('Spain Average:')\n",
    "print(social_es_2014['sclact'].mean())\n",
    "print('Switzerland Average:')\n",
    "print(social_ch_2014['sclact'].mean())\n",
    "print('Germany Average:')\n",
    "print(social_de_2014['sclact'].mean())\n",
    "print('Sweden Average:')\n",
    "print(social_se_2014['sclact'].mean())\n",
    "\n",
    "\n",
    "F, p = stats.f_oneway(social_es_2014['sclact'],\n",
    "                      social_ch_2014['sclact'],\n",
    "                      social_de_2014['sclact'],\n",
    "                      social_se_2014['sclact'])\n",
    "print(F)\n",
    "print(p)\n",
    "\n",
    "social_es_2014['sclact'].hist(alpha=.5, color='red', label='Spain')\n",
    "social_ch_2014['sclact'].hist(alpha=.5, color='blue', label='Swizterland')\n",
    "social_de_2014['sclact'].hist(alpha=.7, color='yellow', label='Germany')\n",
    "social_se_2014['sclact'].hist(alpha=.5, color='green', label='Sweden')\n",
    "plt.legend()\n",
    "plt.title('Perceived Social Avtivity Level when Comparing self to peers')\n",
    "plt.show()\n",
    "social_de_2014['sclact'].hist(alpha=.7, color='yellow')\n",
    "plt.title('Zoom in on Germany')\n",
    "plt.show()\n"
   ]
  },
  {
   "cell_type": "code",
   "execution_count": 55,
   "metadata": {},
   "outputs": [
    {
     "name": "stdout",
     "output_type": "stream",
     "text": [
      "Spain & Switzerland:\n",
      "Ttest_indResult(statistic=-3.478987931157087, pvalue=0.0005148090072335817)\n",
      "Spain & Germany:\n",
      "Ttest_indResult(statistic=-0.32503027389966244, pvalue=0.7452174850209412)\n",
      "Spain & Sweden:\n",
      "Ttest_indResult(statistic=-6.012700644386077, pvalue=2.163487662927079e-09)\n",
      "Germany & Switzerland:\n",
      "Ttest_indResult(statistic=-0.28869953984944624, pvalue=0.7728905598034453)\n",
      "Germany & Sweden:\n",
      "Ttest_indResult(statistic=-0.7120803198617717, pvalue=0.47660399113995766)\n",
      "Switzerland & Sweden:\n",
      "Ttest_indResult(statistic=-2.138086758045346, pvalue=0.03266006699743851)\n"
     ]
    }
   ],
   "source": [
    "print('Spain & Switzerland:')\n",
    "print(stats.ttest_ind(social_es_2014['sclact'], social_ch_2014['sclact']))\n",
    "print('Spain & Germany:')\n",
    "print(stats.ttest_ind(social_es_2014['sclact'], social_de_2014['sclact']))\n",
    "print('Spain & Sweden:')\n",
    "print(stats.ttest_ind(social_es_2014['sclact'], social_se_2014['sclact']))\n",
    "print('Germany & Switzerland:')\n",
    "print(stats.ttest_ind(social_de_2014['sclact'], social_ch_2014['sclact']))\n",
    "print('Germany & Sweden:')\n",
    "print(stats.ttest_ind(social_de_2014['sclact'], social_se_2014['sclact']))\n",
    "print('Switzerland & Sweden:')\n",
    "print(stats.ttest_ind(social_ch_2014['sclact'], social_se_2014['sclact']))"
   ]
  },
  {
   "cell_type": "code",
   "execution_count": null,
   "metadata": {
    "collapsed": true
   },
   "outputs": [],
   "source": []
  }
 ],
 "metadata": {
  "anaconda-cloud": {},
  "kernelspec": {
   "display_name": "Python [default]",
   "language": "python",
   "name": "python3"
  }
 },
 "nbformat": 4,
 "nbformat_minor": 2
}
